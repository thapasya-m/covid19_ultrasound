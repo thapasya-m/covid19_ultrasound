{
 "cells": [
  {
   "cell_type": "code",
   "execution_count": 13,
   "id": "33cd5232",
   "metadata": {},
   "outputs": [
    {
     "name": "stdout",
     "output_type": "stream",
     "text": [
      "done\n"
     ]
    }
   ],
   "source": [
    "import os\n",
    "import cv2\n",
    "\n",
    "# Define the path to the directory containing the 'normal' and 'abnormal' folders\n",
    "from_dir_path = \"../../data/62-clip-test/\"\n",
    "to_dir_path = \"../../data/\"\n",
    "\n",
    "# Define the names of the folders containing the videos\n",
    "folders = [\"normal\", \"abnormal\"]\n",
    "\n",
    "# Define the name of the folder where alternate frames will be saved\n",
    "alt_folder = to_dir_path + \"alt-frames/\"\n",
    "mid_folder = to_dir_path + \"mid-frames/\"\n",
    "\n",
    "if not os.path.exists(alt_folder):\n",
    "        os.mkdir(alt_folder)\n",
    "        \n",
    "if not os.path.exists(mid_folder):\n",
    "    os.mkdir(mid_folder)\n",
    "\n",
    "# Loop through each folder containing the videos\n",
    "for folder in folders:\n",
    "    # Loop through each video in the folder\n",
    "    video_folder = os.path.join(from_dir_path, folder)\n",
    "    \n",
    "    for filename in os.listdir(video_folder):\n",
    "        if filename.endswith(\".mp4\"):\n",
    "            # Load the video\n",
    "            video_path = os.path.join(video_folder, filename)\n",
    "            \n",
    "            cap = cv2.VideoCapture(video_path)\n",
    "            frame_count = int(cap.get(cv2.CAP_PROP_FRAME_COUNT))\n",
    "            \n",
    "            #for mid 50%\n",
    "            start_frame = frame_count/4 \n",
    "            end_frame = 3*frame_count/4\n",
    "\n",
    "            # Create a new folder to store the alternate frames\n",
    "            alt_frame_folder = os.path.join(alt_folder, folder)\n",
    "            \n",
    "            if not os.path.exists(alt_frame_folder):\n",
    "                os.mkdir(alt_frame_folder)\n",
    "            \n",
    "            # Create a new folder to store the alternate frames\n",
    "            mid_frame_folder = os.path.join(mid_folder, folder)\n",
    "            \n",
    "            if not os.path.exists(mid_frame_folder):\n",
    "                os.mkdir(mid_frame_folder)\n",
    "\n",
    "            # Loop through each frame in the video\n",
    "            for i in range(frame_count):\n",
    "                # Read the frame\n",
    "                ret, frame = cap.read()\n",
    "\n",
    "                # Save the frame to the frame folder\n",
    "                if ret:\n",
    "#                     frame_filename = os.path.splitext(filename)[0] + f\"_frame_{i}.jpg\"\n",
    "#                     frame_path = os.path.join(alt_frame_folder, frame_filename)\n",
    "#                     cv2.imwrite(frame_path, frame)\n",
    "\n",
    "                    # Save alternate frames to the alternate frame folder\n",
    "                    if i % 2 == 0:\n",
    "                        alt_frame_filename = os.path.splitext(filename)[0] + f\"_alt_frame_{i}.jpg\"\n",
    "                        alt_frame_path = os.path.join(alt_frame_folder, alt_frame_filename)\n",
    "                        cv2.imwrite(alt_frame_path, frame)\n",
    "\n",
    "                    # Save the middle 50% of frames to the frame folder\n",
    "                    if i > start_frame and i <= end_frame:\n",
    "                        mid_frame_filename = os.path.splitext(filename)[0] + f\"_mid_frame_{i}.jpg\"\n",
    "                        mid_frame_path = os.path.join(mid_frame_folder, mid_frame_filename)\n",
    "                        cv2.imwrite(mid_frame_path, frame)\n",
    "\n",
    "print(\"done\")"
   ]
  },
  {
   "cell_type": "code",
   "execution_count": 24,
   "id": "d227d2db",
   "metadata": {},
   "outputs": [],
   "source": [
    "vp = \"/Users/thapasyamurali/Desktop/git_repo/optimal-videos/abnormal-r81-m3-cut.mp4\"\n",
    "cap = cv2.VideoCapture(vp)\n",
    "frame_count = int(cap.get(cv2.CAP_PROP_FRAME_COUNT))\n",
    "for i in range(44, 81):\n",
    "    if i >44  and i <= 80:\n",
    "        ret, frame = cap.read()\n",
    "        fn = f\"abnormal-r81-m3-cut_{i}.jpg\"\n",
    "        mid_frame_path = os.path.join(\"/Users/thapasyamurali/Desktop/git_repo/optimal-videos/\", fn)\n",
    "        cv2.imwrite(mid_frame_path, frame)"
   ]
  },
  {
   "cell_type": "code",
   "execution_count": null,
   "id": "1a3921c5",
   "metadata": {},
   "outputs": [],
   "source": []
  }
 ],
 "metadata": {
  "kernelspec": {
   "display_name": "venv",
   "language": "python",
   "name": "venv"
  },
  "language_info": {
   "codemirror_mode": {
    "name": "ipython",
    "version": 3
   },
   "file_extension": ".py",
   "mimetype": "text/x-python",
   "name": "python",
   "nbconvert_exporter": "python",
   "pygments_lexer": "ipython3",
   "version": "3.9.6"
  }
 },
 "nbformat": 4,
 "nbformat_minor": 5
}
