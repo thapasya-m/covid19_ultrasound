{
 "cells": [
  {
   "cell_type": "code",
   "execution_count": 15,
   "id": "ec6b912e",
   "metadata": {},
   "outputs": [],
   "source": [
    "import os\n",
    "import pandas as pd\n",
    "from sklearn.metrics import accuracy_score, precision_score, recall_score, f1_score, confusion_matrix"
   ]
  },
  {
   "cell_type": "markdown",
   "id": "a7541e7d",
   "metadata": {},
   "source": [
    "### Read the interquartile/ alternate frame dataset"
   ]
  },
  {
   "cell_type": "code",
   "execution_count": null,
   "id": "cf89f901",
   "metadata": {},
   "outputs": [],
   "source": [
    "jpeg_files = []\n",
    "\n",
    "# Set the path of the directory you want to search\n",
    "path_1 = \"./models-og/trained_models_cam/fold_1/_preds_last_epoch_rend.csv\"\n",
    "path_2 = \"./models-og/trained_models_cam/fold_1/_test_file.csv\""
   ]
  },
  {
   "cell_type": "code",
   "execution_count": 16,
   "id": "cc091ab8",
   "metadata": {},
   "outputs": [
    {
     "data": {
      "text/html": [
       "<div>\n",
       "<style scoped>\n",
       "    .dataframe tbody tr th:only-of-type {\n",
       "        vertical-align: middle;\n",
       "    }\n",
       "\n",
       "    .dataframe tbody tr th {\n",
       "        vertical-align: top;\n",
       "    }\n",
       "\n",
       "    .dataframe thead th {\n",
       "        text-align: right;\n",
       "    }\n",
       "</style>\n",
       "<table border=\"1\" class=\"dataframe\">\n",
       "  <thead>\n",
       "    <tr style=\"text-align: right;\">\n",
       "      <th></th>\n",
       "      <th>0</th>\n",
       "      <th>1</th>\n",
       "    </tr>\n",
       "  </thead>\n",
       "  <tbody>\n",
       "    <tr>\n",
       "      <th>0</th>\n",
       "      <td>0.790160</td>\n",
       "      <td>0.541937</td>\n",
       "    </tr>\n",
       "    <tr>\n",
       "      <th>1</th>\n",
       "      <td>0.790646</td>\n",
       "      <td>0.295504</td>\n",
       "    </tr>\n",
       "    <tr>\n",
       "      <th>2</th>\n",
       "      <td>0.481589</td>\n",
       "      <td>0.413457</td>\n",
       "    </tr>\n",
       "    <tr>\n",
       "      <th>3</th>\n",
       "      <td>0.416499</td>\n",
       "      <td>0.634367</td>\n",
       "    </tr>\n",
       "    <tr>\n",
       "      <th>4</th>\n",
       "      <td>0.557233</td>\n",
       "      <td>0.590527</td>\n",
       "    </tr>\n",
       "  </tbody>\n",
       "</table>\n",
       "</div>"
      ],
      "text/plain": [
       "          0         1\n",
       "0  0.790160  0.541937\n",
       "1  0.790646  0.295504\n",
       "2  0.481589  0.413457\n",
       "3  0.416499  0.634367\n",
       "4  0.557233  0.590527"
      ]
     },
     "execution_count": 16,
     "metadata": {},
     "output_type": "execute_result"
    }
   ],
   "source": [
    "df1 = pd.read_csv(path_1).drop(columns='index')\n",
    "df1.head()"
   ]
  },
  {
   "cell_type": "code",
   "execution_count": 17,
   "id": "3c886f91",
   "metadata": {},
   "outputs": [
    {
     "data": {
      "text/html": [
       "<div>\n",
       "<style scoped>\n",
       "    .dataframe tbody tr th:only-of-type {\n",
       "        vertical-align: middle;\n",
       "    }\n",
       "\n",
       "    .dataframe tbody tr th {\n",
       "        vertical-align: top;\n",
       "    }\n",
       "\n",
       "    .dataframe thead th {\n",
       "        text-align: right;\n",
       "    }\n",
       "</style>\n",
       "<table border=\"1\" class=\"dataframe\">\n",
       "  <thead>\n",
       "    <tr style=\"text-align: right;\">\n",
       "      <th></th>\n",
       "      <th>file_path</th>\n",
       "    </tr>\n",
       "  </thead>\n",
       "  <tbody>\n",
       "    <tr>\n",
       "      <th>0</th>\n",
       "      <td>abnormal-R90-m10-cut_mid_frame_578.jpg</td>\n",
       "    </tr>\n",
       "    <tr>\n",
       "      <th>1</th>\n",
       "      <td>abnormal-R19-m11-cut_mid_frame_164.jpg</td>\n",
       "    </tr>\n",
       "    <tr>\n",
       "      <th>2</th>\n",
       "      <td>abnormal-R96-m5-cut_mid_frame_466.jpg</td>\n",
       "    </tr>\n",
       "    <tr>\n",
       "      <th>3</th>\n",
       "      <td>abnormal-R67-m7-cut_mid_frame_158.jpg</td>\n",
       "    </tr>\n",
       "    <tr>\n",
       "      <th>4</th>\n",
       "      <td>abnormal-R43-m7-cut_mid_frame_264.jpg</td>\n",
       "    </tr>\n",
       "  </tbody>\n",
       "</table>\n",
       "</div>"
      ],
      "text/plain": [
       "                                file_path\n",
       "0  abnormal-R90-m10-cut_mid_frame_578.jpg\n",
       "1  abnormal-R19-m11-cut_mid_frame_164.jpg\n",
       "2   abnormal-R96-m5-cut_mid_frame_466.jpg\n",
       "3   abnormal-R67-m7-cut_mid_frame_158.jpg\n",
       "4   abnormal-R43-m7-cut_mid_frame_264.jpg"
      ]
     },
     "execution_count": 17,
     "metadata": {},
     "output_type": "execute_result"
    }
   ],
   "source": [
    "df2 = pd.read_csv(path_2)\n",
    "df2.head()"
   ]
  },
  {
   "cell_type": "code",
   "execution_count": 18,
   "id": "6c5f61c8",
   "metadata": {},
   "outputs": [
    {
     "name": "stdout",
     "output_type": "stream",
     "text": [
      "(19080, 2)\n"
     ]
    },
    {
     "data": {
      "text/plain": [
       "(19080, 1)"
      ]
     },
     "execution_count": 18,
     "metadata": {},
     "output_type": "execute_result"
    }
   ],
   "source": [
    "print(df1.shape)\n",
    "df2.shape"
   ]
  },
  {
   "cell_type": "code",
   "execution_count": 19,
   "id": "a8cc4d2c",
   "metadata": {},
   "outputs": [
    {
     "name": "stdout",
     "output_type": "stream",
     "text": [
      "       abnormal    normal                               file_path\n",
      "0      0.790160  0.541937  abnormal-R90-m10-cut_mid_frame_578.jpg\n",
      "1      0.790646  0.295504  abnormal-R19-m11-cut_mid_frame_164.jpg\n",
      "2      0.481589  0.413457   abnormal-R96-m5-cut_mid_frame_466.jpg\n",
      "3      0.416499  0.634367   abnormal-R67-m7-cut_mid_frame_158.jpg\n",
      "4      0.557233  0.590527   abnormal-R43-m7-cut_mid_frame_264.jpg\n",
      "...         ...       ...                                     ...\n",
      "19075  0.719985  0.380071    normal-R91-m10-cut_mid_frame_617.jpg\n",
      "19076  0.604230  0.674178     normal-R62-m7-cut_mid_frame_165.jpg\n",
      "19077  0.881047  0.306737    normal-R57-m11-cut_mid_frame_139.jpg\n",
      "19078  0.627480  0.447287     normal-R62-m7-cut_mid_frame_171.jpg\n",
      "19079  0.629005  0.642010     normal-R59-m5-cut_mid_frame_389.jpg\n",
      "\n",
      "[19080 rows x 3 columns]\n"
     ]
    }
   ],
   "source": [
    "df = pd.concat([df1, df2], axis=1)\n",
    "df = df.rename(columns={'0': 'abnormal', '1': 'normal'})\n",
    "\n",
    "print(df)"
   ]
  },
  {
   "cell_type": "code",
   "execution_count": 20,
   "id": "dbf763a0",
   "metadata": {},
   "outputs": [
    {
     "name": "stdout",
     "output_type": "stream",
     "text": [
      "                                    file_path              clip\n",
      "0      abnormal-R90-m10-cut_mid_frame_578.jpg  abnormal-R90-m10\n",
      "1      abnormal-R19-m11-cut_mid_frame_164.jpg  abnormal-R19-m11\n",
      "2       abnormal-R96-m5-cut_mid_frame_466.jpg   abnormal-R96-m5\n",
      "3       abnormal-R67-m7-cut_mid_frame_158.jpg   abnormal-R67-m7\n",
      "4       abnormal-R43-m7-cut_mid_frame_264.jpg   abnormal-R43-m7\n",
      "...                                       ...               ...\n",
      "19075    normal-R91-m10-cut_mid_frame_617.jpg    normal-R91-m10\n",
      "19076     normal-R62-m7-cut_mid_frame_165.jpg     normal-R62-m7\n",
      "19077    normal-R57-m11-cut_mid_frame_139.jpg    normal-R57-m11\n",
      "19078     normal-R62-m7-cut_mid_frame_171.jpg     normal-R62-m7\n",
      "19079     normal-R59-m5-cut_mid_frame_389.jpg     normal-R59-m5\n",
      "\n",
      "[19080 rows x 2 columns]\n"
     ]
    }
   ],
   "source": [
    "# Loop through the rows and update the values in column 'C'\n",
    "for index, row in df.iterrows():\n",
    "    if row['abnormal'] > row['normal']:\n",
    "        df.loc[index, 'y_pred'] = 1\n",
    "    else:\n",
    "        df.loc[index, 'y_pred'] = 0\n",
    "    \n",
    "    if 'abnormal' in row['file_path']:\n",
    "        df.loc[index, 'y_true'] = 1\n",
    "    else:\n",
    "        df.loc[index, 'y_true'] = 0\n",
    "    \n",
    "    df.loc[index, 'clip'] = '-'.join(row['file_path'].split('-')[:3])\n",
    "\n",
    "# Print the updated dataframe\n",
    "print(df[['file_path', 'clip']])"
   ]
  },
  {
   "cell_type": "code",
   "execution_count": 21,
   "id": "7c81a92b",
   "metadata": {},
   "outputs": [
    {
     "data": {
      "text/html": [
       "<div>\n",
       "<style scoped>\n",
       "    .dataframe tbody tr th:only-of-type {\n",
       "        vertical-align: middle;\n",
       "    }\n",
       "\n",
       "    .dataframe tbody tr th {\n",
       "        vertical-align: top;\n",
       "    }\n",
       "\n",
       "    .dataframe thead th {\n",
       "        text-align: right;\n",
       "    }\n",
       "</style>\n",
       "<table border=\"1\" class=\"dataframe\">\n",
       "  <thead>\n",
       "    <tr style=\"text-align: right;\">\n",
       "      <th></th>\n",
       "      <th>abnormal</th>\n",
       "      <th>normal</th>\n",
       "      <th>y_pred</th>\n",
       "      <th>y_true</th>\n",
       "      <th>clip</th>\n",
       "    </tr>\n",
       "  </thead>\n",
       "  <tbody>\n",
       "    <tr>\n",
       "      <th>6098</th>\n",
       "      <td>0.481814</td>\n",
       "      <td>0.499828</td>\n",
       "      <td>0.0</td>\n",
       "      <td>1.0</td>\n",
       "      <td>abnormal-R101-m4</td>\n",
       "    </tr>\n",
       "    <tr>\n",
       "      <th>10946</th>\n",
       "      <td>0.634232</td>\n",
       "      <td>0.507190</td>\n",
       "      <td>1.0</td>\n",
       "      <td>1.0</td>\n",
       "      <td>abnormal-R101-m4</td>\n",
       "    </tr>\n",
       "    <tr>\n",
       "      <th>6199</th>\n",
       "      <td>0.325768</td>\n",
       "      <td>0.630033</td>\n",
       "      <td>0.0</td>\n",
       "      <td>1.0</td>\n",
       "      <td>abnormal-R101-m4</td>\n",
       "    </tr>\n",
       "    <tr>\n",
       "      <th>13472</th>\n",
       "      <td>0.659384</td>\n",
       "      <td>0.153361</td>\n",
       "      <td>1.0</td>\n",
       "      <td>1.0</td>\n",
       "      <td>abnormal-R101-m4</td>\n",
       "    </tr>\n",
       "    <tr>\n",
       "      <th>6224</th>\n",
       "      <td>0.684962</td>\n",
       "      <td>0.366289</td>\n",
       "      <td>1.0</td>\n",
       "      <td>1.0</td>\n",
       "      <td>abnormal-R101-m4</td>\n",
       "    </tr>\n",
       "  </tbody>\n",
       "</table>\n",
       "</div>"
      ],
      "text/plain": [
       "       abnormal    normal  y_pred  y_true              clip\n",
       "6098   0.481814  0.499828     0.0     1.0  abnormal-R101-m4\n",
       "10946  0.634232  0.507190     1.0     1.0  abnormal-R101-m4\n",
       "6199   0.325768  0.630033     0.0     1.0  abnormal-R101-m4\n",
       "13472  0.659384  0.153361     1.0     1.0  abnormal-R101-m4\n",
       "6224   0.684962  0.366289     1.0     1.0  abnormal-R101-m4"
      ]
     },
     "execution_count": 21,
     "metadata": {},
     "output_type": "execute_result"
    }
   ],
   "source": [
    "df = df.drop(columns='file_path', axis=1)\n",
    "df = df.sort_values('clip')\n",
    "\n",
    "df.head()"
   ]
  },
  {
   "cell_type": "markdown",
   "id": "a2e9a56b",
   "metadata": {},
   "source": [
    "## Final 62 clip classification"
   ]
  },
  {
   "cell_type": "code",
   "execution_count": 22,
   "id": "2651a7af",
   "metadata": {},
   "outputs": [
    {
     "name": "stdout",
     "output_type": "stream",
     "text": [
      "                clip  total_frames\n",
      "0   abnormal-R90-m10           482\n",
      "1    abnormal-R90-m8           478\n",
      "2     normal-R91-m12           468\n",
      "3    abnormal-R79-m9           462\n",
      "4   abnormal-R101-m6           454\n",
      "..               ...           ...\n",
      "57     normal-R33-m3           196\n",
      "58    normal-R12-m11           193\n",
      "59   abnormal-R43-m5           192\n",
      "60   abnormal-R33-m5           192\n",
      "61    normal-R57-m11           114\n",
      "\n",
      "[62 rows x 2 columns]\n"
     ]
    }
   ],
   "source": [
    "# Get distinct column values and their counts\n",
    "new_df = df['clip'].value_counts().reset_index()\n",
    "\n",
    "# Rename the columns of the new DataFrame\n",
    "new_df.columns = ['clip', 'total_frames']\n",
    "\n",
    "# # Print the new DataFrame\n",
    "print(new_df)\n"
   ]
  },
  {
   "cell_type": "code",
   "execution_count": 23,
   "id": "f72eaf53",
   "metadata": {},
   "outputs": [
    {
     "name": "stdout",
     "output_type": "stream",
     "text": [
      "                 clip  abn_pred_frames\n",
      "0    abnormal-R101-m4            264.0\n",
      "1    abnormal-R101-m6            233.0\n",
      "2   abnormal-R102-m11             45.0\n",
      "3    abnormal-R102-m9             68.0\n",
      "4    abnormal-R110-m7             16.0\n",
      "..                ...              ...\n",
      "57      normal-R67-m5             39.0\n",
      "58      normal-R71-m9            206.0\n",
      "59      normal-R74-m7             34.0\n",
      "60     normal-R91-m10            375.0\n",
      "61     normal-R91-m12            313.0\n",
      "\n",
      "[62 rows x 2 columns]\n"
     ]
    }
   ],
   "source": [
    "new_df_ = df.groupby('clip').agg({'y_pred': 'sum'}).reset_index()\n",
    "\n",
    "# Rename the columns of the new DataFrame\n",
    "new_df_.columns = ['clip', 'abn_pred_frames']\n",
    "\n",
    "# Print the new DataFrame\n",
    "print(new_df_)"
   ]
  },
  {
   "cell_type": "code",
   "execution_count": 24,
   "id": "53e4c6de",
   "metadata": {},
   "outputs": [
    {
     "name": "stdout",
     "output_type": "stream",
     "text": [
      "                clip  total_frames  abn_pred_frames\n",
      "0   abnormal-R90-m10           482            415.0\n",
      "1    abnormal-R90-m8           478            423.0\n",
      "2     normal-R91-m12           468            313.0\n",
      "3    abnormal-R79-m9           462            420.0\n",
      "4   abnormal-R101-m6           454            233.0\n",
      "..               ...           ...              ...\n",
      "57     normal-R33-m3           196             19.0\n",
      "58    normal-R12-m11           193            110.0\n",
      "59   abnormal-R43-m5           192             41.0\n",
      "60   abnormal-R33-m5           192             12.0\n",
      "61    normal-R57-m11           114             90.0\n",
      "\n",
      "[62 rows x 3 columns]\n"
     ]
    }
   ],
   "source": [
    "# Merge the dataframes based on the common 'ID' column\n",
    "merged_df = pd.merge(new_df, new_df_, on='clip')\n",
    "\n",
    "print(merged_df)"
   ]
  },
  {
   "cell_type": "code",
   "execution_count": 28,
   "id": "f1a487e3",
   "metadata": {},
   "outputs": [
    {
     "name": "stdout",
     "output_type": "stream",
     "text": [
      "                clip  total_frames  abn_pred_frames  abn_ratio\n",
      "0   abnormal-R90-m10           482            415.0   0.860996\n",
      "1    abnormal-R90-m8           478            423.0   0.884937\n",
      "2     normal-R91-m12           468            313.0   0.668803\n",
      "3    abnormal-R79-m9           462            420.0   0.909091\n",
      "4   abnormal-R101-m6           454            233.0   0.513216\n",
      "..               ...           ...              ...        ...\n",
      "57     normal-R33-m3           196             19.0   0.096939\n",
      "58    normal-R12-m11           193            110.0   0.569948\n",
      "59   abnormal-R43-m5           192             41.0   0.213542\n",
      "60   abnormal-R33-m5           192             12.0   0.062500\n",
      "61    normal-R57-m11           114             90.0   0.789474\n",
      "\n",
      "[62 rows x 4 columns]\n"
     ]
    }
   ],
   "source": [
    "merged_df['abn_ratio'] = merged_df['abn_pred_frames']/ merged_df['total_frames']\n",
    "print(merged_df)"
   ]
  },
  {
   "cell_type": "code",
   "execution_count": 29,
   "id": "9ea135ca",
   "metadata": {},
   "outputs": [
    {
     "name": "stdout",
     "output_type": "stream",
     "text": [
      "                clip  total_frames  abn_pred_frames  abn_ratio  is_abn\n",
      "0   abnormal-R90-m10           482            415.0   0.860996       1\n",
      "1    abnormal-R90-m8           478            423.0   0.884937       1\n",
      "2     normal-R91-m12           468            313.0   0.668803       0\n",
      "3    abnormal-R79-m9           462            420.0   0.909091       1\n",
      "4   abnormal-R101-m6           454            233.0   0.513216       1\n",
      "..               ...           ...              ...        ...     ...\n",
      "57     normal-R33-m3           196             19.0   0.096939       0\n",
      "58    normal-R12-m11           193            110.0   0.569948       0\n",
      "59   abnormal-R43-m5           192             41.0   0.213542       1\n",
      "60   abnormal-R33-m5           192             12.0   0.062500       1\n",
      "61    normal-R57-m11           114             90.0   0.789474       0\n",
      "\n",
      "[62 rows x 5 columns]\n"
     ]
    }
   ],
   "source": [
    "# Apply a lambda function to the 'clip' column to create a new column 'is_abn'\n",
    "merged_df['is_abn'] = merged_df['clip'].apply(lambda x: 1 if 'abnormal' in x else 0)\n",
    "\n",
    "print(merged_df)"
   ]
  },
  {
   "cell_type": "code",
   "execution_count": 30,
   "id": "e2284a52",
   "metadata": {},
   "outputs": [
    {
     "name": "stdout",
     "output_type": "stream",
     "text": [
      "                 clip  total_frames  abn_pred_frames  abn_ratio  is_abn\n",
      "5    abnormal-R101-m4           440            264.0   0.600000       1\n",
      "4    abnormal-R101-m6           454            233.0   0.513216       1\n",
      "47  abnormal-R102-m11           230             45.0   0.195652       1\n",
      "44   abnormal-R102-m9           252             68.0   0.269841       1\n",
      "34   abnormal-R110-m7           291             16.0   0.054983       1\n",
      "..                ...           ...              ...        ...     ...\n",
      "11      normal-R67-m5           368             39.0   0.105978       0\n",
      "45      normal-R71-m9           244            206.0   0.844262       0\n",
      "49      normal-R74-m7           227             34.0   0.149780       0\n",
      "6      normal-R91-m10           434            375.0   0.864055       0\n",
      "2      normal-R91-m12           468            313.0   0.668803       0\n",
      "\n",
      "[62 rows x 5 columns]\n"
     ]
    }
   ],
   "source": [
    "print(merged_df.sort_values(by='clip'))"
   ]
  },
  {
   "cell_type": "code",
   "execution_count": 31,
   "id": "8aa8e58e",
   "metadata": {},
   "outputs": [],
   "source": [
    "# merged_df.sort_values(by='clip').to_csv('output_alt.csv', index=False)\n",
    "merged_df.sort_values(by='clip').to_csv('output_mid.csv', index=False)"
   ]
  },
  {
   "cell_type": "markdown",
   "id": "2439254a",
   "metadata": {},
   "source": [
    "# Run directly below directly to test classification result"
   ]
  },
  {
   "cell_type": "code",
   "execution_count": 32,
   "id": "12087bb1",
   "metadata": {},
   "outputs": [
    {
     "data": {
      "text/html": [
       "<div>\n",
       "<style scoped>\n",
       "    .dataframe tbody tr th:only-of-type {\n",
       "        vertical-align: middle;\n",
       "    }\n",
       "\n",
       "    .dataframe tbody tr th {\n",
       "        vertical-align: top;\n",
       "    }\n",
       "\n",
       "    .dataframe thead th {\n",
       "        text-align: right;\n",
       "    }\n",
       "</style>\n",
       "<table border=\"1\" class=\"dataframe\">\n",
       "  <thead>\n",
       "    <tr style=\"text-align: right;\">\n",
       "      <th></th>\n",
       "      <th>clip</th>\n",
       "      <th>total_frames</th>\n",
       "      <th>abn_pred_frames</th>\n",
       "      <th>abn_ratio</th>\n",
       "      <th>is_abn</th>\n",
       "    </tr>\n",
       "  </thead>\n",
       "  <tbody>\n",
       "    <tr>\n",
       "      <th>0</th>\n",
       "      <td>abnormal-R101-m4</td>\n",
       "      <td>440</td>\n",
       "      <td>264.0</td>\n",
       "      <td>0.600000</td>\n",
       "      <td>1</td>\n",
       "    </tr>\n",
       "    <tr>\n",
       "      <th>1</th>\n",
       "      <td>abnormal-R101-m6</td>\n",
       "      <td>454</td>\n",
       "      <td>233.0</td>\n",
       "      <td>0.513216</td>\n",
       "      <td>1</td>\n",
       "    </tr>\n",
       "    <tr>\n",
       "      <th>2</th>\n",
       "      <td>abnormal-R102-m11</td>\n",
       "      <td>230</td>\n",
       "      <td>45.0</td>\n",
       "      <td>0.195652</td>\n",
       "      <td>1</td>\n",
       "    </tr>\n",
       "    <tr>\n",
       "      <th>3</th>\n",
       "      <td>abnormal-R102-m9</td>\n",
       "      <td>252</td>\n",
       "      <td>68.0</td>\n",
       "      <td>0.269841</td>\n",
       "      <td>1</td>\n",
       "    </tr>\n",
       "    <tr>\n",
       "      <th>4</th>\n",
       "      <td>abnormal-R110-m7</td>\n",
       "      <td>291</td>\n",
       "      <td>16.0</td>\n",
       "      <td>0.054983</td>\n",
       "      <td>1</td>\n",
       "    </tr>\n",
       "  </tbody>\n",
       "</table>\n",
       "</div>"
      ],
      "text/plain": [
       "                clip  total_frames  abn_pred_frames  abn_ratio  is_abn\n",
       "0   abnormal-R101-m4           440            264.0   0.600000       1\n",
       "1   abnormal-R101-m6           454            233.0   0.513216       1\n",
       "2  abnormal-R102-m11           230             45.0   0.195652       1\n",
       "3   abnormal-R102-m9           252             68.0   0.269841       1\n",
       "4   abnormal-R110-m7           291             16.0   0.054983       1"
      ]
     },
     "execution_count": 32,
     "metadata": {},
     "output_type": "execute_result"
    }
   ],
   "source": [
    "df = pd.read_csv('output_mid.csv')\n",
    "df.head()"
   ]
  },
  {
   "cell_type": "code",
   "execution_count": 33,
   "id": "6d161a11",
   "metadata": {},
   "outputs": [
    {
     "name": "stdout",
     "output_type": "stream",
     "text": [
      "Threshold: 0.4\n",
      "Accuracy: 0.6774193548387096\n",
      "Precision: 0.7906976744186046\n",
      "Recall (Sensitivity): 0.7555555555555555\n",
      "F1-score: 0.7727272727272727\n",
      "Threshold: 0.45\n",
      "Accuracy: 0.6774193548387096\n",
      "Precision: 0.7906976744186046\n",
      "Recall (Sensitivity): 0.7555555555555555\n",
      "F1-score: 0.7727272727272727\n",
      "Threshold: 0.5\n",
      "Accuracy: 0.6451612903225806\n",
      "Precision: 0.7804878048780488\n",
      "Recall (Sensitivity): 0.7111111111111111\n",
      "F1-score: 0.7441860465116279\n",
      "Threshold: 0.55\n",
      "Accuracy: 0.5967741935483871\n",
      "Precision: 0.7631578947368421\n",
      "Recall (Sensitivity): 0.6444444444444445\n",
      "F1-score: 0.6987951807228916\n",
      "Threshold: 0.59\n",
      "Accuracy: 0.6290322580645161\n",
      "Precision: 0.8055555555555556\n",
      "Recall (Sensitivity): 0.6444444444444445\n",
      "F1-score: 0.7160493827160493\n"
     ]
    }
   ],
   "source": [
    "# setting threshold\n",
    "thresholds = [0.4, 0.45, 0.5, 0.55, 0.59]\n",
    "\n",
    "for threshold in thresholds:\n",
    "\n",
    "    # Ground truth labels\n",
    "    true_labels = df['is_abn']\n",
    "\n",
    "    # Predicted labels\n",
    "    predicted_labels = df['abn_ratio'].apply(lambda x: 0 if x <= threshold else 1)\n",
    "\n",
    "    \n",
    "    # Calculate accuracy\n",
    "    accuracy = accuracy_score(true_labels, predicted_labels)\n",
    "\n",
    "    # Calculate precision\n",
    "    precision = precision_score(true_labels, predicted_labels)\n",
    "\n",
    "    # Calculate recall (sensitivity)\n",
    "    recall = recall_score(true_labels, predicted_labels)\n",
    "\n",
    "    # Calculate F1-score\n",
    "    f1 = f1_score(true_labels, predicted_labels)\n",
    "\n",
    "    # Print the results\n",
    "    print(\"Threshold:\", threshold)\n",
    "    print(\"Accuracy:\", accuracy)\n",
    "    print(\"Precision:\", precision)\n",
    "    print(\"Recall (Sensitivity):\", recall)\n",
    "    print(\"F1-score:\", f1)"
   ]
  },
  {
   "cell_type": "code",
   "execution_count": 34,
   "id": "d71fa234",
   "metadata": {},
   "outputs": [
    {
     "data": {
      "text/html": [
       "<div>\n",
       "<style scoped>\n",
       "    .dataframe tbody tr th:only-of-type {\n",
       "        vertical-align: middle;\n",
       "    }\n",
       "\n",
       "    .dataframe tbody tr th {\n",
       "        vertical-align: top;\n",
       "    }\n",
       "\n",
       "    .dataframe thead th {\n",
       "        text-align: right;\n",
       "    }\n",
       "</style>\n",
       "<table border=\"1\" class=\"dataframe\">\n",
       "  <thead>\n",
       "    <tr style=\"text-align: right;\">\n",
       "      <th></th>\n",
       "      <th>clip</th>\n",
       "      <th>total_frames</th>\n",
       "      <th>abn_pred_frames</th>\n",
       "      <th>abn_ratio</th>\n",
       "      <th>is_abn</th>\n",
       "    </tr>\n",
       "  </thead>\n",
       "  <tbody>\n",
       "    <tr>\n",
       "      <th>0</th>\n",
       "      <td>abnormal-R101-m4</td>\n",
       "      <td>440</td>\n",
       "      <td>258</td>\n",
       "      <td>0.586364</td>\n",
       "      <td>1</td>\n",
       "    </tr>\n",
       "    <tr>\n",
       "      <th>1</th>\n",
       "      <td>abnormal-R101-m6</td>\n",
       "      <td>455</td>\n",
       "      <td>230</td>\n",
       "      <td>0.586364</td>\n",
       "      <td>1</td>\n",
       "    </tr>\n",
       "    <tr>\n",
       "      <th>2</th>\n",
       "      <td>abnormal-R102-m11</td>\n",
       "      <td>230</td>\n",
       "      <td>45</td>\n",
       "      <td>0.586364</td>\n",
       "      <td>1</td>\n",
       "    </tr>\n",
       "    <tr>\n",
       "      <th>3</th>\n",
       "      <td>abnormal-R102-m9</td>\n",
       "      <td>252</td>\n",
       "      <td>71</td>\n",
       "      <td>0.586364</td>\n",
       "      <td>1</td>\n",
       "    </tr>\n",
       "    <tr>\n",
       "      <th>4</th>\n",
       "      <td>abnormal-R110-m7</td>\n",
       "      <td>291</td>\n",
       "      <td>15</td>\n",
       "      <td>0.586364</td>\n",
       "      <td>1</td>\n",
       "    </tr>\n",
       "  </tbody>\n",
       "</table>\n",
       "</div>"
      ],
      "text/plain": [
       "                clip  total_frames  abn_pred_frames  abn_ratio  is_abn\n",
       "0   abnormal-R101-m4           440              258   0.586364       1\n",
       "1   abnormal-R101-m6           455              230   0.586364       1\n",
       "2  abnormal-R102-m11           230               45   0.586364       1\n",
       "3   abnormal-R102-m9           252               71   0.586364       1\n",
       "4   abnormal-R110-m7           291               15   0.586364       1"
      ]
     },
     "execution_count": 34,
     "metadata": {},
     "output_type": "execute_result"
    }
   ],
   "source": [
    "df = pd.read_csv('output_alt.csv')\n",
    "df.head()"
   ]
  },
  {
   "cell_type": "code",
   "execution_count": 36,
   "id": "cb523f79",
   "metadata": {},
   "outputs": [
    {
     "name": "stdout",
     "output_type": "stream",
     "text": [
      "Threshold: 0.4\n",
      "Accuracy: 0.8548387096774194\n",
      "Precision: 0.8333333333333334\n",
      "Recall (Sensitivity): 1.0\n",
      "F1-score: 0.9090909090909091\n",
      "Confusion Matrix:\n",
      "[[ 8  9]\n",
      " [ 0 45]]\n",
      "Precision: [1.         0.83333333]\n",
      "Recall: [0.47058824 1.        ]\n",
      "F1-score: [0.64       0.90909091]\n",
      "Threshold: 0.45\n",
      "Accuracy: 0.8548387096774194\n",
      "Precision: 0.8333333333333334\n",
      "Recall (Sensitivity): 1.0\n",
      "F1-score: 0.9090909090909091\n",
      "Confusion Matrix:\n",
      "[[ 8  9]\n",
      " [ 0 45]]\n",
      "Precision: [1.         0.83333333]\n",
      "Recall: [0.47058824 1.        ]\n",
      "F1-score: [0.64       0.90909091]\n",
      "Threshold: 0.5\n",
      "Accuracy: 0.8548387096774194\n",
      "Precision: 0.8333333333333334\n",
      "Recall (Sensitivity): 1.0\n",
      "F1-score: 0.9090909090909091\n",
      "Confusion Matrix:\n",
      "[[ 8  9]\n",
      " [ 0 45]]\n",
      "Precision: [1.         0.83333333]\n",
      "Recall: [0.47058824 1.        ]\n",
      "F1-score: [0.64       0.90909091]\n",
      "Threshold: 0.55\n",
      "Accuracy: 0.8548387096774194\n",
      "Precision: 0.8333333333333334\n",
      "Recall (Sensitivity): 1.0\n",
      "F1-score: 0.9090909090909091\n",
      "Confusion Matrix:\n",
      "[[ 8  9]\n",
      " [ 0 45]]\n",
      "Precision: [1.         0.83333333]\n",
      "Recall: [0.47058824 1.        ]\n",
      "F1-score: [0.64       0.90909091]\n",
      "Threshold: 0.59\n",
      "Accuracy: 0.14516129032258066\n",
      "Precision: 0.0\n",
      "Recall (Sensitivity): 0.0\n",
      "F1-score: 0.0\n",
      "Confusion Matrix:\n",
      "[[ 9  8]\n",
      " [45  0]]\n",
      "Precision: [0.16666667 0.        ]\n",
      "Recall: [0.52941176 0.        ]\n",
      "F1-score: [0.25352113 0.        ]\n"
     ]
    }
   ],
   "source": [
    "# setting threshold\n",
    "thresholds = [0.4, 0.45, 0.5, 0.55, 0.59]\n",
    "\n",
    "for threshold in thresholds:\n",
    "\n",
    "    # Ground truth labels\n",
    "    true_labels = df['is_abn']\n",
    "\n",
    "    # Predicted labels\n",
    "    predicted_labels = df['abn_ratio'].apply(lambda x: 0 if x <= threshold else 1)\n",
    "\n",
    "    # Calculate accuracy\n",
    "    accuracy = accuracy_score(true_labels, predicted_labels)\n",
    "\n",
    "    # Calculate precision\n",
    "    precision = precision_score(true_labels, predicted_labels)\n",
    "\n",
    "    # Calculate recall (sensitivity)\n",
    "    recall = recall_score(true_labels, predicted_labels)\n",
    "\n",
    "    # Calculate F1-score\n",
    "    f1 = f1_score(true_labels, predicted_labels)\n",
    "    \n",
    "    # Create the confusion matrix\n",
    "    cm = confusion_matrix(true_labels, predicted_labels)\n",
    "\n",
    "\n",
    "    # Print the results\n",
    "    print(\"Threshold:\", threshold)\n",
    "    print(\"Accuracy:\", accuracy)\n",
    "    print(\"Precision:\", precision)\n",
    "    print(\"Recall (Sensitivity):\", recall)\n",
    "    print(\"F1-score:\", f1)\n",
    "    \n",
    "    # Print the confusion matrix\n",
    "    print(\"Confusion Matrix:\")\n",
    "    print(cm)\n",
    "    \n",
    "    # Calculate precision at each class label level\n",
    "    precision = precision_score(true_labels, predicted_labels, average=None)\n",
    "\n",
    "    # Calculate recall at each class label level\n",
    "    recall = recall_score(true_labels, predicted_labels, average=None)\n",
    "\n",
    "    # Calculate F1-score at each class label level\n",
    "    f1 = f1_score(true_labels, predicted_labels, average=None)\n",
    "\n",
    "    # Print the metrics at each class label level\n",
    "    print(\"Precision:\", precision)\n",
    "    print(\"Recall:\", recall)\n",
    "    print(\"F1-score:\", f1)\n",
    "\n"
   ]
  }
 ],
 "metadata": {
  "kernelspec": {
   "display_name": "venv",
   "language": "python",
   "name": "venv"
  },
  "language_info": {
   "codemirror_mode": {
    "name": "ipython",
    "version": 3
   },
   "file_extension": ".py",
   "mimetype": "text/x-python",
   "name": "python",
   "nbconvert_exporter": "python",
   "pygments_lexer": "ipython3",
   "version": "3.9.6"
  }
 },
 "nbformat": 4,
 "nbformat_minor": 5
}
